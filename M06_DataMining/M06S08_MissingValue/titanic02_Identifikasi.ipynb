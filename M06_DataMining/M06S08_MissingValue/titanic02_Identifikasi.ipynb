{
 "cells": [
  {
   "cell_type": "markdown",
   "id": "645d037d-f693-4215-a434-b65cb5cefe9e",
   "metadata": {},
   "source": [
    "## Latihan Penanganan Missing Value dg dataset Titanic\n"
   ]
  },
  {
   "cell_type": "markdown",
   "id": "000ed5b7-a7de-44c2-a59f-f749afa19efd",
   "metadata": {},
   "source": [
    "import library Python yang diperlukan untuk analisi data: Numpy dan Panda"
   ]
  },
  {
   "cell_type": "code",
   "execution_count": 7,
   "id": "23c71b16-7b5a-4705-bf84-6515563d21f4",
   "metadata": {},
   "outputs": [],
   "source": [
    "import pandas as pd\n",
    "from sklearn.preprocessing import LabelEncoder\n",
    "from sklearn.tree import DecisionTreeClassifier # Import Decision Tree Classifier\n",
    "from sklearn.model_selection import train_test_split # Import train_test_split function\n",
    "from sklearn import metrics #Import scikit-learn metrics module for accuracy calculation"
   ]
  },
  {
   "cell_type": "markdown",
   "id": "76188697-6551-4102-b8fd-0050ad3025ab",
   "metadata": {},
   "source": [
    "\n",
    "### Load data dan memahami data\n",
    "\n",
    "Untuk secara detil analisis eksplorasi data secara singkat, dapat melihat ke Notebook titanic00_EDA\n"
   ]
  },
  {
   "cell_type": "code",
   "execution_count": 8,
   "id": "a07c33e8-e816-4066-97bb-5a130035686a",
   "metadata": {},
   "outputs": [],
   "source": [
    "df = pd.read_csv('../dataset/titanic/train.csv')\n",
    "dft = df.copy()\n"
   ]
  },
  {
   "cell_type": "markdown",
   "id": "651153b2-03af-47aa-90a9-3cdda40f8095",
   "metadata": {
    "tags": []
   },
   "source": [
    "### Teknik 1. Penanganan _Missing value_ dengan **identifikasi**\n",
    "Mengganti _missing value_ dengan nilai tertentu seperti NA atau Unknown.\n",
    "\n",
    "Berdasarkan hasil analisi data di sebelumnya, dapat diketahui bahwa: \n",
    "* field/kolom/atribut **PassengerId** karena hanya sebagai nomor urut atau unique variabel untuk setiap record, tidak kita perlukan. \n",
    "* field/kolom/atribut **Name** memiliki jumlah **unique** sebanyak jumlah record total, yaitu 891, sehingga tidak signifikan untuk pemodelan prediksi.\n",
    "* field/kolom/atribut **Ticket** memiliki jumlah **unique** hampir sebanyak jumlah record total, yaitu 681 (85%), sehingga tidak signifikan untuk pemodelan prediksi.\n",
    "* ada 3 field yang memiliki _missing value_ yaitu: age, cabin dan embarked. \n",
    "\n",
    "Kemudian untuk record dengan _missing value_ yang akan kita gantikan dengan NA adalah atribute sebagai berikut:\n",
    "**Cabin, Age dan Embarked**."
   ]
  },
  {
   "cell_type": "code",
   "execution_count": 9,
   "id": "a1323502-53d4-423b-8e63-896e64aea93b",
   "metadata": {},
   "outputs": [],
   "source": [
    "dft.drop([\"PassengerId\",\"Name\",\"Ticket\"], axis=1, inplace=True)"
   ]
  },
  {
   "cell_type": "code",
   "execution_count": 10,
   "id": "c8aabdb0-041d-4d63-9539-66b0f8d4a765",
   "metadata": {},
   "outputs": [
    {
     "data": {
      "text/plain": [
       "Survived      0\n",
       "Pclass        0\n",
       "Sex           0\n",
       "Age         177\n",
       "SibSp         0\n",
       "Parch         0\n",
       "Fare          0\n",
       "Cabin       687\n",
       "Embarked      2\n",
       "dtype: int64"
      ]
     },
     "execution_count": 10,
     "metadata": {},
     "output_type": "execute_result"
    }
   ],
   "source": [
    "dft.isnull().sum()"
   ]
  },
  {
   "cell_type": "markdown",
   "id": "6564587c-9264-4c35-ae63-c3583f222699",
   "metadata": {},
   "source": [
    "### Sekali lagi, **Eliminasi** untuk record yang memiliki _missing value_\n",
    "Berdasarkan data di atas, masih ada 2 atribut yang memiliki _missing value_ Age = 177 record dan Embarked = 2 record. \n",
    "\n",
    "Langkah berikut adalah menghapus record-record yang field Age atau Embarked memiliki _missing value_. "
   ]
  },
  {
   "cell_type": "code",
   "execution_count": 6,
   "id": "21e1e141-fdc9-49c0-b0bd-51bcd98b99f1",
   "metadata": {},
   "outputs": [
    {
     "data": {
      "text/plain": [
       "Survived    0\n",
       "Pclass      0\n",
       "Sex         0\n",
       "SibSp       0\n",
       "Parch       0\n",
       "Fare        0\n",
       "dtype: int64"
      ]
     },
     "execution_count": 6,
     "metadata": {},
     "output_type": "execute_result"
    }
   ],
   "source": [
    "dft.drop([\"Age\",\"Embarked\"], axis=1, inplace=True)\n",
    "dft.isnull().sum()"
   ]
  },
  {
   "cell_type": "code",
   "execution_count": 7,
   "id": "253e21bb-2ebf-4837-a228-c2ed023c89c0",
   "metadata": {},
   "outputs": [
    {
     "name": "stdout",
     "output_type": "stream",
     "text": [
      "<class 'pandas.core.frame.DataFrame'>\n",
      "RangeIndex: 891 entries, 0 to 890\n",
      "Data columns (total 6 columns):\n",
      " #   Column    Non-Null Count  Dtype  \n",
      "---  ------    --------------  -----  \n",
      " 0   Survived  891 non-null    int64  \n",
      " 1   Pclass    891 non-null    int64  \n",
      " 2   Sex       891 non-null    object \n",
      " 3   SibSp     891 non-null    int64  \n",
      " 4   Parch     891 non-null    int64  \n",
      " 5   Fare      891 non-null    float64\n",
      "dtypes: float64(1), int64(4), object(1)\n",
      "memory usage: 41.9+ KB\n"
     ]
    }
   ],
   "source": [
    "dft.info()"
   ]
  },
  {
   "cell_type": "markdown",
   "id": "ac2aee8e-a864-4123-a44c-efeb29a28e37",
   "metadata": {},
   "source": [
    "### Pemodelan dengan data dengan algoritma Decision Tree\n",
    "\n",
    "#### Seleksi Fitur (_Feature Selection_)\n",
    "Sebagaimana algoritma _supervised_ lainnya, kita perlu membagi atribut menjadi 2 bagian. Satu bagian terdiri dari 1 atribut, sebagai variabel _**target**_, dan sisanya adalah sebagai variabel _**independent**_. \n",
    "\n",
    "Dalam hal ini, atribute **Survived** adalah variabel target, dan sisanya adalah variabel independent. Kemudian, kita membagi data menjadi data training (learning) dan data testing. Kali ini kita memilih cara pembagian data yang sederhana yaitu data testing adalah 30% dari total dataset.\n",
    "\n",
    "Selanjutnya, untuk pemodelan dengan algoritma Decision Tree, jenis data harus numerik. Sedangkan kondisi dataset sekarang masih ada beberapa yang non-numerik,  yaitu Sex:male,female. Oleh karena itu atribute Sex harus ditransformasi menjadi nilai numerik. Dengan menggunakan tool LabelEncoder dari sklearn.preprocessing, kita dapat merubah secara otomatis atribute Sex menjadi male = 1, dan female = 0. \n"
   ]
  },
  {
   "cell_type": "code",
   "execution_count": 14,
   "id": "58d38b3c-0ea1-4de9-8aa5-99675ff68879",
   "metadata": {},
   "outputs": [],
   "source": [
    "le = LabelEncoder()\n",
    "dft['Sex'] =  le.fit_transform(dft['Sex'])"
   ]
  },
  {
   "cell_type": "code",
   "execution_count": 15,
   "id": "842daadb-0040-4c12-bc15-f15f093028b1",
   "metadata": {},
   "outputs": [
    {
     "name": "stdout",
     "output_type": "stream",
     "text": [
      "<class 'pandas.core.frame.DataFrame'>\n",
      "RangeIndex: 891 entries, 0 to 890\n",
      "Data columns (total 6 columns):\n",
      " #   Column    Non-Null Count  Dtype  \n",
      "---  ------    --------------  -----  \n",
      " 0   Survived  891 non-null    int64  \n",
      " 1   Pclass    891 non-null    int64  \n",
      " 2   Sex       891 non-null    int64  \n",
      " 3   SibSp     891 non-null    int64  \n",
      " 4   Parch     891 non-null    int64  \n",
      " 5   Fare      891 non-null    float64\n",
      "dtypes: float64(1), int64(5)\n",
      "memory usage: 41.9 KB\n"
     ]
    }
   ],
   "source": [
    "dft.info()"
   ]
  },
  {
   "cell_type": "code",
   "execution_count": 28,
   "id": "84d9bb00-c473-4bcd-b886-8dc502b46ba2",
   "metadata": {},
   "outputs": [],
   "source": [
    "#split dataset in features and target variable\n",
    "feature_cols = ['Pclass','Sex','SibSp','Parch','Fare']\n",
    "X = dft[feature_cols] # Features\n",
    "y = dft.Survived # Target variable"
   ]
  },
  {
   "cell_type": "code",
   "execution_count": 29,
   "id": "f749dc8f-6687-4ac7-b367-69786603d7c7",
   "metadata": {},
   "outputs": [],
   "source": [
    "# Split dataset into training set and test set\n",
    "X_train, X_test, y_train, y_test = train_test_split(X, y, test_size=0.3, random_state=1) # 70% training and 30% test"
   ]
  },
  {
   "cell_type": "markdown",
   "id": "fa4f15ec-41f3-4f26-a7bf-7579c046389f",
   "metadata": {},
   "source": [
    "#### Training: membangun model prediksi dengan Decision Tree"
   ]
  },
  {
   "cell_type": "code",
   "execution_count": 30,
   "id": "0a427a4e-de08-4ee2-87cb-53fbe5b99a3b",
   "metadata": {},
   "outputs": [],
   "source": [
    "# Create Decision Tree classifer object\n",
    "clf = DecisionTreeClassifier()\n",
    "\n",
    "# Train Decision Tree Classifer\n",
    "clf = clf.fit(X_train,y_train)\n",
    "\n",
    "#Predict the response for test dataset\n",
    "y_pred = clf.predict(X_test)"
   ]
  },
  {
   "cell_type": "markdown",
   "id": "0706b6ae-8400-4c50-801f-74bb78e8e8b8",
   "metadata": {},
   "source": [
    "#### Evaluasi akurasi dari model yang dihasilkan: \n"
   ]
  },
  {
   "cell_type": "code",
   "execution_count": 31,
   "id": "806affd2-34e4-4cfd-9cb8-8650664b8a2a",
   "metadata": {},
   "outputs": [
    {
     "name": "stdout",
     "output_type": "stream",
     "text": [
      "Accuracy: 0.7574626865671642\n"
     ]
    }
   ],
   "source": [
    "# Model Accuracy, how often is the classifier correct?\n",
    "print(\"Accuracy:\",metrics.accuracy_score(y_test, y_pred))"
   ]
  },
  {
   "cell_type": "code",
   "execution_count": null,
   "id": "128bdbe2-e9be-4476-92dc-c7a34d36b54c",
   "metadata": {},
   "outputs": [],
   "source": []
  }
 ],
 "metadata": {
  "kernelspec": {
   "display_name": "Python 3 (ipykernel)",
   "language": "python",
   "name": "python3"
  },
  "language_info": {
   "codemirror_mode": {
    "name": "ipython",
    "version": 3
   },
   "file_extension": ".py",
   "mimetype": "text/x-python",
   "name": "python",
   "nbconvert_exporter": "python",
   "pygments_lexer": "ipython3",
   "version": "3.10.6"
  }
 },
 "nbformat": 4,
 "nbformat_minor": 5
}

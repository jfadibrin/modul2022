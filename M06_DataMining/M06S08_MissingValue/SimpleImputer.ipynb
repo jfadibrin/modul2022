{
 "cells": [
  {
   "cell_type": "markdown",
   "id": "a153cce0-4fd2-4132-b4f3-de3a006bd724",
   "metadata": {},
   "source": [
    "## Substitusi mssing value dengan SimpleImputer\n",
    "Ada 4 strategi subsitusi dengan SimpleImpter: mean, median, most_frequent, constant\n",
    "\n"
   ]
  },
  {
   "cell_type": "raw",
   "id": "058e5ea1-d161-44fc-925f-e0097c1deb98",
   "metadata": {},
   "source": [
    "#\n",
    "# Imputing with mean value\n",
    "#\n",
    "imputer = SimpleImputer(missing_values=np.NaN, strategy='mean')\n",
    "\n",
    "#\n",
    "# Imputing with median value\n",
    "#\n",
    "imputer = SimpleImputer(missing_values=np.NaN, strategy='median')\n",
    "\n",
    "#\n",
    "# Imputing with most frequent / mode value\n",
    "#\n",
    "imputer = SimpleImputer(missing_values=np.NaN, strategy='most_frequent')\n",
    "\n",
    "#\n",
    "# Imputing with constant value; The command below replaces the missing\n",
    "# value with constant value such as 80\n",
    "#\n",
    "imputer = SimpleImputer(missing_values=np.NaN, strategy='constant', fill_value=80)"
   ]
  },
  {
   "cell_type": "markdown",
   "id": "317b8e33-26e0-4fcb-9407-5448c423cc15",
   "metadata": {},
   "source": [
    "Jenis data dapat berupa numerik atau kategorikal. Untuk SimpleImputer dengan strategi most_frequent dengan data numerik, maka hasilnya akan sama dengan strategi median. "
   ]
  },
  {
   "cell_type": "code",
   "execution_count": 19,
   "id": "8cfaa523-12a5-4447-927b-bebf679d145e",
   "metadata": {},
   "outputs": [
    {
     "name": "stdout",
     "output_type": "stream",
     "text": [
      "Original Data numerik : \n",
      " [[12, nan, 34], [10, 32, nan], [nan, 11, 20], [10, 11, 34]]\n",
      "\n",
      "\n",
      "Original data siswa (kombinasi numerik dan kategorikal: \n",
      " [[85, 'L', 'sangatbagus'], [95, 'P', 'sempurna'], [75, None, 'bagus'], [nan, 'L', 'cukup'], [70, 'L', 'bagus'], [nan, None, 'sangatbagus'], [92, 'P', 'sangatbagus'], [98, 'L', 'sempurna']]\n"
     ]
    }
   ],
   "source": [
    "import pandas as pd\n",
    "import numpy as np\n",
    "\n",
    "# Importing the SimpleImputer class\n",
    "from sklearn.impute import SimpleImputer\n",
    " \n",
    "dataNumerik = [[12, np.nan, 34], \n",
    "        [10, 32, np.nan],\n",
    "        [np.nan, 11, 20],\n",
    "        [10, 11, 34]\n",
    "       ]\n",
    " \n",
    "print(\"Original Data numerik : \\n\", dataNumerik)\n",
    "\n",
    " \n",
    "dataSiswa = [[85, 'L', 'sangatbagus'],\n",
    "           [95, 'P', 'sempurna'],\n",
    "           [75, None,'bagus'],\n",
    "           [np.NaN, 'L', 'cukup'],\n",
    "           [70, 'L', 'bagus'],\n",
    "           [np.NaN, None, 'sangatbagus'],\n",
    "           [92, 'P', 'sangatbagus'],\n",
    "           [98, 'L', 'sempurna']]\n",
    "\n",
    "\n",
    "print(\"\\n\\nOriginal data siswa (kombinasi numerik dan kategorikal: \\n\", dataSiswa)\n"
   ]
  },
  {
   "cell_type": "markdown",
   "id": "425dfcff-096c-4a75-9b86-5d3a9f5e2637",
   "metadata": {},
   "source": [
    "### A. Data Numerik: Substitusi missing value (nan) dengan SimpleImputer\n"
   ]
  },
  {
   "cell_type": "markdown",
   "id": "8bce84ce-3fc7-498b-9dd6-76910c72c206",
   "metadata": {},
   "source": [
    "#### A.1. Imputer dengan strategi **mean**"
   ]
  },
  {
   "cell_type": "code",
   "execution_count": 2,
   "id": "7af7f890-1580-41c6-99e2-01f6348a5e21",
   "metadata": {},
   "outputs": [
    {
     "name": "stdout",
     "output_type": "stream",
     "text": [
      "Imputed Data : \n",
      " [[12.         18.         34.        ]\n",
      " [10.         32.         29.33333333]\n",
      " [10.66666667 11.         20.        ]\n",
      " [10.         11.         34.        ]]\n"
     ]
    }
   ],
   "source": [
    "# Imputer object using the mean strategy and\n",
    "# missing_values type for imputation\n",
    "imputer = SimpleImputer(missing_values = np.nan,\n",
    "                        strategy ='mean')\n",
    "\n",
    "# Fitting the data to the imputer object\n",
    "imputer = imputer.fit(dataNumerik)\n",
    " \n",
    "# Imputing the data    \n",
    "data1 = imputer.transform(dataNumerik)\n",
    " \n",
    "print(\"Imputed Data : \\n\", data1)"
   ]
  },
  {
   "cell_type": "markdown",
   "id": "8e013e89-57ef-4b38-b70a-ef4b7b4df783",
   "metadata": {},
   "source": [
    "#### A.2. Imputer dengan strategi **median**"
   ]
  },
  {
   "cell_type": "code",
   "execution_count": 5,
   "id": "185b1780-de07-498b-9d3d-d5c9547596c3",
   "metadata": {},
   "outputs": [
    {
     "name": "stdout",
     "output_type": "stream",
     "text": [
      "Imputed Data : \n",
      " [[12. 11. 34.]\n",
      " [10. 32. 34.]\n",
      " [10. 11. 20.]\n",
      " [10. 11. 34.]]\n"
     ]
    }
   ],
   "source": [
    "# Imputer object using the mean strategy and\n",
    "# missing_values type for imputation\n",
    "imputer = SimpleImputer(missing_values = np.nan,\n",
    "                        strategy ='median')\n",
    "\n",
    "# Fitting the data to the imputer object\n",
    "imputer = imputer.fit(dataNumerik)\n",
    " \n",
    "# Imputing the data    \n",
    "data2 = imputer.transform(dataNumerik)\n",
    " \n",
    "print(\"Imputed Data : \\n\", data2)"
   ]
  },
  {
   "cell_type": "markdown",
   "id": "8a69f932-c83f-48a7-9ad9-d406dea9d409",
   "metadata": {},
   "source": [
    "#### A.3. Imputer dengan strategi **most_frequent**"
   ]
  },
  {
   "cell_type": "code",
   "execution_count": 6,
   "id": "6e076987-ef90-4c2b-8e6a-63de6ab57d0b",
   "metadata": {},
   "outputs": [
    {
     "name": "stdout",
     "output_type": "stream",
     "text": [
      "Imputed Data : \n",
      " [[12. 11. 34.]\n",
      " [10. 32. 34.]\n",
      " [10. 11. 20.]\n",
      " [10. 11. 34.]]\n"
     ]
    }
   ],
   "source": [
    "# Imputer object using the mean strategy and\n",
    "# missing_values type for imputation\n",
    "imputer = SimpleImputer(missing_values = np.nan,\n",
    "                        strategy ='most_frequent')\n",
    "\n",
    "# Fitting the data to the imputer object\n",
    "imputer = imputer.fit(dataNumerik)\n",
    " \n",
    "# Imputing the data    \n",
    "data3 = imputer.transform(dataNumerik)\n",
    " \n",
    "print(\"Imputed Data : \\n\", data3)"
   ]
  },
  {
   "cell_type": "markdown",
   "id": "301c4ff8-a239-4192-ad20-958ab237ac12",
   "metadata": {},
   "source": [
    "#### A.4. Imputer dengan strategi **constant**"
   ]
  },
  {
   "cell_type": "code",
   "execution_count": 7,
   "id": "d4f21c22-76a2-4002-899b-1950171b49a6",
   "metadata": {},
   "outputs": [
    {
     "name": "stdout",
     "output_type": "stream",
     "text": [
      "Imputed Data : \n",
      " [[12. 80. 34.]\n",
      " [10. 32. 80.]\n",
      " [80. 11. 20.]\n",
      " [10. 11. 34.]]\n"
     ]
    }
   ],
   "source": [
    "# Imputer object using the mean strategy and\n",
    "# missing_values type for imputation\n",
    "imputer = SimpleImputer(missing_values = np.nan,\n",
    "                        strategy='constant', \n",
    "                        fill_value=80)\n",
    "\n",
    "# Fitting the data to the imputer object\n",
    "imputer = imputer.fit(dataNumerik)\n",
    " \n",
    "# Imputing the data    \n",
    "data4 = imputer.transform(dataNumerik)\n",
    " \n",
    "print(\"Imputed Data : \\n\", data4)"
   ]
  },
  {
   "cell_type": "markdown",
   "id": "992f649e-4df5-4632-b4b9-3859d24ba0c0",
   "metadata": {},
   "source": [
    "### B. Kombinasi Data Numerik dan Kategorikal: Substitusi missing value (nan) dengan SimpleImputer"
   ]
  },
  {
   "cell_type": "code",
   "execution_count": 20,
   "id": "fa9359a2-551a-4aab-9b50-e1d1322393c2",
   "metadata": {},
   "outputs": [
    {
     "data": {
      "text/html": [
       "<div>\n",
       "<style scoped>\n",
       "    .dataframe tbody tr th:only-of-type {\n",
       "        vertical-align: middle;\n",
       "    }\n",
       "\n",
       "    .dataframe tbody tr th {\n",
       "        vertical-align: top;\n",
       "    }\n",
       "\n",
       "    .dataframe thead th {\n",
       "        text-align: right;\n",
       "    }\n",
       "</style>\n",
       "<table border=\"1\" class=\"dataframe\">\n",
       "  <thead>\n",
       "    <tr style=\"text-align: right;\">\n",
       "      <th></th>\n",
       "      <th>nilai</th>\n",
       "      <th>gender</th>\n",
       "      <th>hasil</th>\n",
       "    </tr>\n",
       "  </thead>\n",
       "  <tbody>\n",
       "    <tr>\n",
       "      <th>0</th>\n",
       "      <td>85.0</td>\n",
       "      <td>L</td>\n",
       "      <td>sangatbagus</td>\n",
       "    </tr>\n",
       "    <tr>\n",
       "      <th>1</th>\n",
       "      <td>95.0</td>\n",
       "      <td>P</td>\n",
       "      <td>sempurna</td>\n",
       "    </tr>\n",
       "    <tr>\n",
       "      <th>2</th>\n",
       "      <td>75.0</td>\n",
       "      <td>None</td>\n",
       "      <td>bagus</td>\n",
       "    </tr>\n",
       "    <tr>\n",
       "      <th>3</th>\n",
       "      <td>NaN</td>\n",
       "      <td>L</td>\n",
       "      <td>cukup</td>\n",
       "    </tr>\n",
       "    <tr>\n",
       "      <th>4</th>\n",
       "      <td>70.0</td>\n",
       "      <td>L</td>\n",
       "      <td>bagus</td>\n",
       "    </tr>\n",
       "    <tr>\n",
       "      <th>5</th>\n",
       "      <td>NaN</td>\n",
       "      <td>None</td>\n",
       "      <td>sangatbagus</td>\n",
       "    </tr>\n",
       "    <tr>\n",
       "      <th>6</th>\n",
       "      <td>92.0</td>\n",
       "      <td>P</td>\n",
       "      <td>sangatbagus</td>\n",
       "    </tr>\n",
       "    <tr>\n",
       "      <th>7</th>\n",
       "      <td>98.0</td>\n",
       "      <td>L</td>\n",
       "      <td>sempurna</td>\n",
       "    </tr>\n",
       "  </tbody>\n",
       "</table>\n",
       "</div>"
      ],
      "text/plain": [
       "   nilai gender        hasil\n",
       "0   85.0      L  sangatbagus\n",
       "1   95.0      P     sempurna\n",
       "2   75.0   None        bagus\n",
       "3    NaN      L        cukup\n",
       "4   70.0      L        bagus\n",
       "5    NaN   None  sangatbagus\n",
       "6   92.0      P  sangatbagus\n",
       "7   98.0      L     sempurna"
      ]
     },
     "execution_count": 20,
     "metadata": {},
     "output_type": "execute_result"
    }
   ],
   "source": [
    "dfsiswa = pd.DataFrame(dataSiswa)\n",
    "dfsiswa.columns = ['nilai', 'gender', 'hasil']\n",
    "dfsiswa"
   ]
  },
  {
   "cell_type": "code",
   "execution_count": 9,
   "id": "f0da95fe-b628-46f4-8c36-56061cf6f505",
   "metadata": {},
   "outputs": [
    {
     "data": {
      "text/plain": [
       "nilai     2\n",
       "gender    2\n",
       "hasil     0\n",
       "dtype: int64"
      ]
     },
     "execution_count": 9,
     "metadata": {},
     "output_type": "execute_result"
    }
   ],
   "source": [
    "dfsiswa.isnull().sum()"
   ]
  },
  {
   "cell_type": "markdown",
   "id": "610e52b7-0cb0-46f9-b7b4-e6aea4cbdff7",
   "metadata": {},
   "source": [
    "Field nilai dan gender, masing-masing memiliki 2 _missing value_"
   ]
  },
  {
   "cell_type": "code",
   "execution_count": 10,
   "id": "a369fc88-820c-4dca-9d15-c794e95b861e",
   "metadata": {},
   "outputs": [
    {
     "data": {
      "text/html": [
       "<div>\n",
       "<style scoped>\n",
       "    .dataframe tbody tr th:only-of-type {\n",
       "        vertical-align: middle;\n",
       "    }\n",
       "\n",
       "    .dataframe tbody tr th {\n",
       "        vertical-align: top;\n",
       "    }\n",
       "\n",
       "    .dataframe thead th {\n",
       "        text-align: right;\n",
       "    }\n",
       "</style>\n",
       "<table border=\"1\" class=\"dataframe\">\n",
       "  <thead>\n",
       "    <tr style=\"text-align: right;\">\n",
       "      <th></th>\n",
       "      <th>nilai</th>\n",
       "    </tr>\n",
       "  </thead>\n",
       "  <tbody>\n",
       "    <tr>\n",
       "      <th>count</th>\n",
       "      <td>6.000000</td>\n",
       "    </tr>\n",
       "    <tr>\n",
       "      <th>mean</th>\n",
       "      <td>85.833333</td>\n",
       "    </tr>\n",
       "    <tr>\n",
       "      <th>std</th>\n",
       "      <td>11.303392</td>\n",
       "    </tr>\n",
       "    <tr>\n",
       "      <th>min</th>\n",
       "      <td>70.000000</td>\n",
       "    </tr>\n",
       "    <tr>\n",
       "      <th>25%</th>\n",
       "      <td>77.500000</td>\n",
       "    </tr>\n",
       "    <tr>\n",
       "      <th>50%</th>\n",
       "      <td>88.500000</td>\n",
       "    </tr>\n",
       "    <tr>\n",
       "      <th>75%</th>\n",
       "      <td>94.250000</td>\n",
       "    </tr>\n",
       "    <tr>\n",
       "      <th>max</th>\n",
       "      <td>98.000000</td>\n",
       "    </tr>\n",
       "  </tbody>\n",
       "</table>\n",
       "</div>"
      ],
      "text/plain": [
       "           nilai\n",
       "count   6.000000\n",
       "mean   85.833333\n",
       "std    11.303392\n",
       "min    70.000000\n",
       "25%    77.500000\n",
       "50%    88.500000\n",
       "75%    94.250000\n",
       "max    98.000000"
      ]
     },
     "execution_count": 10,
     "metadata": {},
     "output_type": "execute_result"
    }
   ],
   "source": [
    "dfsiswa.describe()"
   ]
  },
  {
   "cell_type": "markdown",
   "id": "7ca0f1ea-7583-46d2-b1b7-00c51f096532",
   "metadata": {},
   "source": [
    "#### B.1. Imputer dengan strategi **mean**"
   ]
  },
  {
   "cell_type": "code",
   "execution_count": 21,
   "id": "748a4841-6d85-4065-9c0d-f7e864fb4f5f",
   "metadata": {},
   "outputs": [
    {
     "data": {
      "text/html": [
       "<div>\n",
       "<style scoped>\n",
       "    .dataframe tbody tr th:only-of-type {\n",
       "        vertical-align: middle;\n",
       "    }\n",
       "\n",
       "    .dataframe tbody tr th {\n",
       "        vertical-align: top;\n",
       "    }\n",
       "\n",
       "    .dataframe thead th {\n",
       "        text-align: right;\n",
       "    }\n",
       "</style>\n",
       "<table border=\"1\" class=\"dataframe\">\n",
       "  <thead>\n",
       "    <tr style=\"text-align: right;\">\n",
       "      <th></th>\n",
       "      <th>nilai</th>\n",
       "      <th>gender</th>\n",
       "      <th>hasil</th>\n",
       "    </tr>\n",
       "  </thead>\n",
       "  <tbody>\n",
       "    <tr>\n",
       "      <th>0</th>\n",
       "      <td>85.000000</td>\n",
       "      <td>L</td>\n",
       "      <td>sangatbagus</td>\n",
       "    </tr>\n",
       "    <tr>\n",
       "      <th>1</th>\n",
       "      <td>95.000000</td>\n",
       "      <td>P</td>\n",
       "      <td>sempurna</td>\n",
       "    </tr>\n",
       "    <tr>\n",
       "      <th>2</th>\n",
       "      <td>75.000000</td>\n",
       "      <td>None</td>\n",
       "      <td>bagus</td>\n",
       "    </tr>\n",
       "    <tr>\n",
       "      <th>3</th>\n",
       "      <td>85.833333</td>\n",
       "      <td>L</td>\n",
       "      <td>cukup</td>\n",
       "    </tr>\n",
       "    <tr>\n",
       "      <th>4</th>\n",
       "      <td>70.000000</td>\n",
       "      <td>L</td>\n",
       "      <td>bagus</td>\n",
       "    </tr>\n",
       "    <tr>\n",
       "      <th>5</th>\n",
       "      <td>85.833333</td>\n",
       "      <td>None</td>\n",
       "      <td>sangatbagus</td>\n",
       "    </tr>\n",
       "    <tr>\n",
       "      <th>6</th>\n",
       "      <td>92.000000</td>\n",
       "      <td>P</td>\n",
       "      <td>sangatbagus</td>\n",
       "    </tr>\n",
       "    <tr>\n",
       "      <th>7</th>\n",
       "      <td>98.000000</td>\n",
       "      <td>L</td>\n",
       "      <td>sempurna</td>\n",
       "    </tr>\n",
       "  </tbody>\n",
       "</table>\n",
       "</div>"
      ],
      "text/plain": [
       "       nilai gender        hasil\n",
       "0  85.000000      L  sangatbagus\n",
       "1  95.000000      P     sempurna\n",
       "2  75.000000   None        bagus\n",
       "3  85.833333      L        cukup\n",
       "4  70.000000      L        bagus\n",
       "5  85.833333   None  sangatbagus\n",
       "6  92.000000      P  sangatbagus\n",
       "7  98.000000      L     sempurna"
      ]
     },
     "execution_count": 21,
     "metadata": {},
     "output_type": "execute_result"
    }
   ],
   "source": [
    "dfsiswa2 = dfsiswa.copy()\n",
    "#\n",
    "# Missing values direpresentatikan dengan NaN sehingga terspesifikasi. \n",
    "# Jika dia adalah data kosong, maka missing value terspesifikasi \n",
    "# sebagai ''\n",
    "imputer = SimpleImputer(missing_values=np.NaN, strategy='mean')\n",
    " \n",
    "dfsiswa2.nilai = imputer.fit_transform(dfsiswa2['nilai'].values.reshape(-1,1))[:,0]\n",
    " \n",
    "dfsiswa2"
   ]
  },
  {
   "cell_type": "markdown",
   "id": "567b5994-74cf-41e0-a937-5a08cc6e57a7",
   "metadata": {},
   "source": [
    "Di contoh ini, terlihat bahwa _missing value_ pada atribut/variabel nilai tergantikan dengan nilai rata-rata yaitu: 85.833333"
   ]
  },
  {
   "cell_type": "markdown",
   "id": "b1e4c725-3637-4f20-8ff2-c97b68986644",
   "metadata": {},
   "source": [
    "Sebagaimana dijelaskan di sesi A, bahwa data dengan tipe numerik dapat menggunakan 4 strategi: mean, median, most_frequent dan constant. Tetapi untuk data kategorikal seperti variabel/atribute gender, tidak dapat menggunakan strategi mean dan median. "
   ]
  },
  {
   "cell_type": "markdown",
   "id": "a134cd5f-c2af-4820-9298-6b9f34f566a6",
   "metadata": {},
   "source": [
    "#### B2. Imputer dengan strategi **median**"
   ]
  },
  {
   "cell_type": "code",
   "execution_count": 22,
   "id": "2ea9820d-4b02-42c6-b7ff-bd018833cbad",
   "metadata": {},
   "outputs": [
    {
     "data": {
      "text/html": [
       "<div>\n",
       "<style scoped>\n",
       "    .dataframe tbody tr th:only-of-type {\n",
       "        vertical-align: middle;\n",
       "    }\n",
       "\n",
       "    .dataframe tbody tr th {\n",
       "        vertical-align: top;\n",
       "    }\n",
       "\n",
       "    .dataframe thead th {\n",
       "        text-align: right;\n",
       "    }\n",
       "</style>\n",
       "<table border=\"1\" class=\"dataframe\">\n",
       "  <thead>\n",
       "    <tr style=\"text-align: right;\">\n",
       "      <th></th>\n",
       "      <th>nilai</th>\n",
       "      <th>gender</th>\n",
       "      <th>hasil</th>\n",
       "    </tr>\n",
       "  </thead>\n",
       "  <tbody>\n",
       "    <tr>\n",
       "      <th>0</th>\n",
       "      <td>85.0</td>\n",
       "      <td>L</td>\n",
       "      <td>sangatbagus</td>\n",
       "    </tr>\n",
       "    <tr>\n",
       "      <th>1</th>\n",
       "      <td>95.0</td>\n",
       "      <td>P</td>\n",
       "      <td>sempurna</td>\n",
       "    </tr>\n",
       "    <tr>\n",
       "      <th>2</th>\n",
       "      <td>75.0</td>\n",
       "      <td>None</td>\n",
       "      <td>bagus</td>\n",
       "    </tr>\n",
       "    <tr>\n",
       "      <th>3</th>\n",
       "      <td>88.5</td>\n",
       "      <td>L</td>\n",
       "      <td>cukup</td>\n",
       "    </tr>\n",
       "    <tr>\n",
       "      <th>4</th>\n",
       "      <td>70.0</td>\n",
       "      <td>L</td>\n",
       "      <td>bagus</td>\n",
       "    </tr>\n",
       "    <tr>\n",
       "      <th>5</th>\n",
       "      <td>88.5</td>\n",
       "      <td>None</td>\n",
       "      <td>sangatbagus</td>\n",
       "    </tr>\n",
       "    <tr>\n",
       "      <th>6</th>\n",
       "      <td>92.0</td>\n",
       "      <td>P</td>\n",
       "      <td>sangatbagus</td>\n",
       "    </tr>\n",
       "    <tr>\n",
       "      <th>7</th>\n",
       "      <td>98.0</td>\n",
       "      <td>L</td>\n",
       "      <td>sempurna</td>\n",
       "    </tr>\n",
       "  </tbody>\n",
       "</table>\n",
       "</div>"
      ],
      "text/plain": [
       "   nilai gender        hasil\n",
       "0   85.0      L  sangatbagus\n",
       "1   95.0      P     sempurna\n",
       "2   75.0   None        bagus\n",
       "3   88.5      L        cukup\n",
       "4   70.0      L        bagus\n",
       "5   88.5   None  sangatbagus\n",
       "6   92.0      P  sangatbagus\n",
       "7   98.0      L     sempurna"
      ]
     },
     "execution_count": 22,
     "metadata": {},
     "output_type": "execute_result"
    }
   ],
   "source": [
    "dfsiswa3 = dfsiswa.copy()\n",
    "#\n",
    "# Missing values direpresentatikan dengan NaN sehingga terspesifikasi. \n",
    "# Jika dia adalah data kosong, maka missing value terspesifikasi \n",
    "# sebagai ''\n",
    "imputer = SimpleImputer(missing_values=np.NaN, strategy='median')\n",
    " \n",
    "dfsiswa3.nilai = imputer.fit_transform(dfsiswa3['nilai'].values.reshape(-1,1))[:,0]\n",
    " \n",
    "dfsiswa3"
   ]
  },
  {
   "cell_type": "markdown",
   "id": "4000d709-8a9f-44c0-b788-636f33d2e0cc",
   "metadata": {},
   "source": [
    "#### B3. Imputer dengan strategi **most_frequent**"
   ]
  },
  {
   "cell_type": "code",
   "execution_count": 23,
   "id": "e74e2912-2892-4223-87a4-aad211e21baf",
   "metadata": {},
   "outputs": [
    {
     "data": {
      "text/html": [
       "<div>\n",
       "<style scoped>\n",
       "    .dataframe tbody tr th:only-of-type {\n",
       "        vertical-align: middle;\n",
       "    }\n",
       "\n",
       "    .dataframe tbody tr th {\n",
       "        vertical-align: top;\n",
       "    }\n",
       "\n",
       "    .dataframe thead th {\n",
       "        text-align: right;\n",
       "    }\n",
       "</style>\n",
       "<table border=\"1\" class=\"dataframe\">\n",
       "  <thead>\n",
       "    <tr style=\"text-align: right;\">\n",
       "      <th></th>\n",
       "      <th>nilai</th>\n",
       "      <th>gender</th>\n",
       "      <th>hasil</th>\n",
       "    </tr>\n",
       "  </thead>\n",
       "  <tbody>\n",
       "    <tr>\n",
       "      <th>0</th>\n",
       "      <td>85.0</td>\n",
       "      <td>L</td>\n",
       "      <td>sangatbagus</td>\n",
       "    </tr>\n",
       "    <tr>\n",
       "      <th>1</th>\n",
       "      <td>95.0</td>\n",
       "      <td>P</td>\n",
       "      <td>sempurna</td>\n",
       "    </tr>\n",
       "    <tr>\n",
       "      <th>2</th>\n",
       "      <td>75.0</td>\n",
       "      <td>L</td>\n",
       "      <td>bagus</td>\n",
       "    </tr>\n",
       "    <tr>\n",
       "      <th>3</th>\n",
       "      <td>NaN</td>\n",
       "      <td>L</td>\n",
       "      <td>cukup</td>\n",
       "    </tr>\n",
       "    <tr>\n",
       "      <th>4</th>\n",
       "      <td>70.0</td>\n",
       "      <td>L</td>\n",
       "      <td>bagus</td>\n",
       "    </tr>\n",
       "    <tr>\n",
       "      <th>5</th>\n",
       "      <td>NaN</td>\n",
       "      <td>L</td>\n",
       "      <td>sangatbagus</td>\n",
       "    </tr>\n",
       "    <tr>\n",
       "      <th>6</th>\n",
       "      <td>92.0</td>\n",
       "      <td>P</td>\n",
       "      <td>sangatbagus</td>\n",
       "    </tr>\n",
       "    <tr>\n",
       "      <th>7</th>\n",
       "      <td>98.0</td>\n",
       "      <td>L</td>\n",
       "      <td>sempurna</td>\n",
       "    </tr>\n",
       "  </tbody>\n",
       "</table>\n",
       "</div>"
      ],
      "text/plain": [
       "   nilai gender        hasil\n",
       "0   85.0      L  sangatbagus\n",
       "1   95.0      P     sempurna\n",
       "2   75.0      L        bagus\n",
       "3    NaN      L        cukup\n",
       "4   70.0      L        bagus\n",
       "5    NaN      L  sangatbagus\n",
       "6   92.0      P  sangatbagus\n",
       "7   98.0      L     sempurna"
      ]
     },
     "execution_count": 23,
     "metadata": {},
     "output_type": "execute_result"
    }
   ],
   "source": [
    "dfsiswa4 = dfsiswa.copy()\n",
    "\n",
    "imputer = SimpleImputer(missing_values=None, strategy='most_frequent')\n",
    "\n",
    "dfsiswa4.gender = imputer.fit_transform(dfsiswa4['gender'].values.reshape(-1,1))[:,0]\n",
    "dfsiswa4"
   ]
  },
  {
   "cell_type": "code",
   "execution_count": 14,
   "id": "822c57a8-62ec-406c-bb2c-0f30395ca09d",
   "metadata": {},
   "outputs": [
    {
     "data": {
      "text/html": [
       "<div>\n",
       "<style scoped>\n",
       "    .dataframe tbody tr th:only-of-type {\n",
       "        vertical-align: middle;\n",
       "    }\n",
       "\n",
       "    .dataframe tbody tr th {\n",
       "        vertical-align: top;\n",
       "    }\n",
       "\n",
       "    .dataframe thead th {\n",
       "        text-align: right;\n",
       "    }\n",
       "</style>\n",
       "<table border=\"1\" class=\"dataframe\">\n",
       "  <thead>\n",
       "    <tr style=\"text-align: right;\">\n",
       "      <th></th>\n",
       "      <th>nilai</th>\n",
       "      <th>gender</th>\n",
       "      <th>hasil</th>\n",
       "    </tr>\n",
       "  </thead>\n",
       "  <tbody>\n",
       "    <tr>\n",
       "      <th>0</th>\n",
       "      <td>85.0</td>\n",
       "      <td>L</td>\n",
       "      <td>sangatbagus</td>\n",
       "    </tr>\n",
       "    <tr>\n",
       "      <th>1</th>\n",
       "      <td>95.0</td>\n",
       "      <td>P</td>\n",
       "      <td>sempurna</td>\n",
       "    </tr>\n",
       "    <tr>\n",
       "      <th>2</th>\n",
       "      <td>75.0</td>\n",
       "      <td>X</td>\n",
       "      <td>bagus</td>\n",
       "    </tr>\n",
       "    <tr>\n",
       "      <th>3</th>\n",
       "      <td>NaN</td>\n",
       "      <td>L</td>\n",
       "      <td>cukup</td>\n",
       "    </tr>\n",
       "    <tr>\n",
       "      <th>4</th>\n",
       "      <td>70.0</td>\n",
       "      <td>L</td>\n",
       "      <td>bagus</td>\n",
       "    </tr>\n",
       "    <tr>\n",
       "      <th>5</th>\n",
       "      <td>NaN</td>\n",
       "      <td>X</td>\n",
       "      <td>sangatbagus</td>\n",
       "    </tr>\n",
       "    <tr>\n",
       "      <th>6</th>\n",
       "      <td>92.0</td>\n",
       "      <td>P</td>\n",
       "      <td>sangatbagus</td>\n",
       "    </tr>\n",
       "    <tr>\n",
       "      <th>7</th>\n",
       "      <td>98.0</td>\n",
       "      <td>L</td>\n",
       "      <td>sempurna</td>\n",
       "    </tr>\n",
       "  </tbody>\n",
       "</table>\n",
       "</div>"
      ],
      "text/plain": [
       "   nilai gender        hasil\n",
       "0   85.0      L  sangatbagus\n",
       "1   95.0      P     sempurna\n",
       "2   75.0      X        bagus\n",
       "3    NaN      L        cukup\n",
       "4   70.0      L        bagus\n",
       "5    NaN      X  sangatbagus\n",
       "6   92.0      P  sangatbagus\n",
       "7   98.0      L     sempurna"
      ]
     },
     "execution_count": 14,
     "metadata": {},
     "output_type": "execute_result"
    }
   ],
   "source": [
    "dfsiswa = pd.DataFrame(dataSiswa)\n",
    "dfsiswa.columns = ['nilai', 'gender', 'hasil']\n",
    "\n",
    "imputer = SimpleImputer(missing_values=None, strategy='constant', fill_value='X')\n",
    "\n",
    "dfsiswa.gender = imputer.fit_transform(dfsiswa['gender'].values.reshape(-1,1))[:,0]\n",
    "dfsiswa"
   ]
  },
  {
   "cell_type": "code",
   "execution_count": null,
   "id": "56ee0a38-037f-4e02-880d-335332f218df",
   "metadata": {},
   "outputs": [],
   "source": []
  },
  {
   "cell_type": "code",
   "execution_count": null,
   "id": "aa23396b-b283-44ec-b8bf-1daaff3e2434",
   "metadata": {},
   "outputs": [],
   "source": []
  }
 ],
 "metadata": {
  "kernelspec": {
   "display_name": "Python 3 (ipykernel)",
   "language": "python",
   "name": "python3"
  },
  "language_info": {
   "codemirror_mode": {
    "name": "ipython",
    "version": 3
   },
   "file_extension": ".py",
   "mimetype": "text/x-python",
   "name": "python",
   "nbconvert_exporter": "python",
   "pygments_lexer": "ipython3",
   "version": "3.10.6"
  }
 },
 "nbformat": 4,
 "nbformat_minor": 5
}

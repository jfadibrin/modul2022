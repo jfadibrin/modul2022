{
 "cells": [
  {
   "cell_type": "markdown",
   "id": "645d037d-f693-4215-a434-b65cb5cefe9e",
   "metadata": {},
   "source": [
    "## Latihan Penanganan Missing Value dg dataset Titanic: teknik Substitusi\n"
   ]
  },
  {
   "cell_type": "markdown",
   "id": "000ed5b7-a7de-44c2-a59f-f749afa19efd",
   "metadata": {},
   "source": [
    "import library Python yang diperlukan untuk analisi data: Numpy dan Panda "
   ]
  },
  {
   "cell_type": "code",
   "execution_count": 1,
   "id": "23c71b16-7b5a-4705-bf84-6515563d21f4",
   "metadata": {},
   "outputs": [],
   "source": [
    "import pandas as pd\n",
    "import numpy as np\n",
    "from sklearn.preprocessing import LabelEncoder\n",
    "from sklearn.impute import SimpleImputer\n",
    "from sklearn.tree import DecisionTreeClassifier # Import Decision Tree Classifier\n",
    "from sklearn.model_selection import train_test_split # Import train_test_split function\n",
    "from sklearn import metrics #Import scikit-learn metrics module for accuracy calculation"
   ]
  },
  {
   "cell_type": "markdown",
   "id": "76188697-6551-4102-b8fd-0050ad3025ab",
   "metadata": {},
   "source": [
    "\n",
    "### Load data dan memahami data\n",
    "\n",
    "Untuk secara detil analisis eksplorasi data secara singkat, dapat melihat ke Notebook titanic00_EDA\n"
   ]
  },
  {
   "cell_type": "code",
   "execution_count": 2,
   "id": "a07c33e8-e816-4066-97bb-5a130035686a",
   "metadata": {},
   "outputs": [],
   "source": [
    "df = pd.read_csv('../dataset/titanic/train.csv')\n",
    "dft = df.copy()"
   ]
  },
  {
   "cell_type": "markdown",
   "id": "651153b2-03af-47aa-90a9-3cdda40f8095",
   "metadata": {
    "tags": []
   },
   "source": [
    "### Teknik 1. Penanganan _Missing value_ dengan **Substitusi**\n",
    "Mengganti _missing value_ dengan nilai tertentu seperti NA atau Unknown.\n",
    "\n",
    "Berdasarkan hasil analisi data di sebelumnya, dapat diketahui bahwa: \n",
    "* field/kolom/atribut **PassengerId** karena hanya sebagai nomor urut atau unique variabel untuk setiap record, tidak kita perlukan. \n",
    "* field/kolom/atribut **Name** memiliki jumlah **unique** sebanyak jumlah record total, yaitu 891, sehingga tidak signifikan untuk pemodelan prediksi.\n",
    "* field/kolom/atribut **Ticket** memiliki jumlah **unique** hampir sebanyak jumlah record total, yaitu 681 (85%), sehingga tidak signifikan untuk pemodelan prediksi.\n",
    "* ada 3 field yang memiliki _missing value_ yaitu: age, cabin dan embarked. \n",
    "\n",
    "Kemudian untuk record dengan _missing value_ yang akan kita gantikan dengan mean, median, nilai paliang banyak muncul (most_frequent) adalah atribute sebagai berikut:\n",
    "**Cabin, Age dan Embarked**. Kita akan menggunakan library SimpleImputer untuk mengimplementasikan substitusi ini. "
   ]
  },
  {
   "cell_type": "code",
   "execution_count": 3,
   "id": "a1323502-53d4-423b-8e63-896e64aea93b",
   "metadata": {},
   "outputs": [],
   "source": [
    "dft.drop([\"PassengerId\",\"Name\",\"Ticket\"], axis=1, inplace=True)"
   ]
  },
  {
   "cell_type": "code",
   "execution_count": 4,
   "id": "737ef005-4a9a-44b9-b09d-f64d35391a94",
   "metadata": {},
   "outputs": [
    {
     "data": {
      "text/html": [
       "<div>\n",
       "<style scoped>\n",
       "    .dataframe tbody tr th:only-of-type {\n",
       "        vertical-align: middle;\n",
       "    }\n",
       "\n",
       "    .dataframe tbody tr th {\n",
       "        vertical-align: top;\n",
       "    }\n",
       "\n",
       "    .dataframe thead th {\n",
       "        text-align: right;\n",
       "    }\n",
       "</style>\n",
       "<table border=\"1\" class=\"dataframe\">\n",
       "  <thead>\n",
       "    <tr style=\"text-align: right;\">\n",
       "      <th></th>\n",
       "      <th>Survived</th>\n",
       "      <th>Pclass</th>\n",
       "      <th>Sex</th>\n",
       "      <th>Age</th>\n",
       "      <th>SibSp</th>\n",
       "      <th>Parch</th>\n",
       "      <th>Fare</th>\n",
       "      <th>Cabin</th>\n",
       "      <th>Embarked</th>\n",
       "    </tr>\n",
       "  </thead>\n",
       "  <tbody>\n",
       "    <tr>\n",
       "      <th>count</th>\n",
       "      <td>891.000000</td>\n",
       "      <td>891.000000</td>\n",
       "      <td>891</td>\n",
       "      <td>714.000000</td>\n",
       "      <td>891.000000</td>\n",
       "      <td>891.000000</td>\n",
       "      <td>891.000000</td>\n",
       "      <td>204</td>\n",
       "      <td>889</td>\n",
       "    </tr>\n",
       "    <tr>\n",
       "      <th>unique</th>\n",
       "      <td>NaN</td>\n",
       "      <td>NaN</td>\n",
       "      <td>2</td>\n",
       "      <td>NaN</td>\n",
       "      <td>NaN</td>\n",
       "      <td>NaN</td>\n",
       "      <td>NaN</td>\n",
       "      <td>147</td>\n",
       "      <td>3</td>\n",
       "    </tr>\n",
       "    <tr>\n",
       "      <th>top</th>\n",
       "      <td>NaN</td>\n",
       "      <td>NaN</td>\n",
       "      <td>male</td>\n",
       "      <td>NaN</td>\n",
       "      <td>NaN</td>\n",
       "      <td>NaN</td>\n",
       "      <td>NaN</td>\n",
       "      <td>B96 B98</td>\n",
       "      <td>S</td>\n",
       "    </tr>\n",
       "    <tr>\n",
       "      <th>freq</th>\n",
       "      <td>NaN</td>\n",
       "      <td>NaN</td>\n",
       "      <td>577</td>\n",
       "      <td>NaN</td>\n",
       "      <td>NaN</td>\n",
       "      <td>NaN</td>\n",
       "      <td>NaN</td>\n",
       "      <td>4</td>\n",
       "      <td>644</td>\n",
       "    </tr>\n",
       "    <tr>\n",
       "      <th>mean</th>\n",
       "      <td>0.383838</td>\n",
       "      <td>2.308642</td>\n",
       "      <td>NaN</td>\n",
       "      <td>29.699118</td>\n",
       "      <td>0.523008</td>\n",
       "      <td>0.381594</td>\n",
       "      <td>32.204208</td>\n",
       "      <td>NaN</td>\n",
       "      <td>NaN</td>\n",
       "    </tr>\n",
       "    <tr>\n",
       "      <th>std</th>\n",
       "      <td>0.486592</td>\n",
       "      <td>0.836071</td>\n",
       "      <td>NaN</td>\n",
       "      <td>14.526497</td>\n",
       "      <td>1.102743</td>\n",
       "      <td>0.806057</td>\n",
       "      <td>49.693429</td>\n",
       "      <td>NaN</td>\n",
       "      <td>NaN</td>\n",
       "    </tr>\n",
       "    <tr>\n",
       "      <th>min</th>\n",
       "      <td>0.000000</td>\n",
       "      <td>1.000000</td>\n",
       "      <td>NaN</td>\n",
       "      <td>0.420000</td>\n",
       "      <td>0.000000</td>\n",
       "      <td>0.000000</td>\n",
       "      <td>0.000000</td>\n",
       "      <td>NaN</td>\n",
       "      <td>NaN</td>\n",
       "    </tr>\n",
       "    <tr>\n",
       "      <th>25%</th>\n",
       "      <td>0.000000</td>\n",
       "      <td>2.000000</td>\n",
       "      <td>NaN</td>\n",
       "      <td>20.125000</td>\n",
       "      <td>0.000000</td>\n",
       "      <td>0.000000</td>\n",
       "      <td>7.910400</td>\n",
       "      <td>NaN</td>\n",
       "      <td>NaN</td>\n",
       "    </tr>\n",
       "    <tr>\n",
       "      <th>50%</th>\n",
       "      <td>0.000000</td>\n",
       "      <td>3.000000</td>\n",
       "      <td>NaN</td>\n",
       "      <td>28.000000</td>\n",
       "      <td>0.000000</td>\n",
       "      <td>0.000000</td>\n",
       "      <td>14.454200</td>\n",
       "      <td>NaN</td>\n",
       "      <td>NaN</td>\n",
       "    </tr>\n",
       "    <tr>\n",
       "      <th>75%</th>\n",
       "      <td>1.000000</td>\n",
       "      <td>3.000000</td>\n",
       "      <td>NaN</td>\n",
       "      <td>38.000000</td>\n",
       "      <td>1.000000</td>\n",
       "      <td>0.000000</td>\n",
       "      <td>31.000000</td>\n",
       "      <td>NaN</td>\n",
       "      <td>NaN</td>\n",
       "    </tr>\n",
       "    <tr>\n",
       "      <th>max</th>\n",
       "      <td>1.000000</td>\n",
       "      <td>3.000000</td>\n",
       "      <td>NaN</td>\n",
       "      <td>80.000000</td>\n",
       "      <td>8.000000</td>\n",
       "      <td>6.000000</td>\n",
       "      <td>512.329200</td>\n",
       "      <td>NaN</td>\n",
       "      <td>NaN</td>\n",
       "    </tr>\n",
       "  </tbody>\n",
       "</table>\n",
       "</div>"
      ],
      "text/plain": [
       "          Survived      Pclass   Sex         Age       SibSp       Parch  \\\n",
       "count   891.000000  891.000000   891  714.000000  891.000000  891.000000   \n",
       "unique         NaN         NaN     2         NaN         NaN         NaN   \n",
       "top            NaN         NaN  male         NaN         NaN         NaN   \n",
       "freq           NaN         NaN   577         NaN         NaN         NaN   \n",
       "mean      0.383838    2.308642   NaN   29.699118    0.523008    0.381594   \n",
       "std       0.486592    0.836071   NaN   14.526497    1.102743    0.806057   \n",
       "min       0.000000    1.000000   NaN    0.420000    0.000000    0.000000   \n",
       "25%       0.000000    2.000000   NaN   20.125000    0.000000    0.000000   \n",
       "50%       0.000000    3.000000   NaN   28.000000    0.000000    0.000000   \n",
       "75%       1.000000    3.000000   NaN   38.000000    1.000000    0.000000   \n",
       "max       1.000000    3.000000   NaN   80.000000    8.000000    6.000000   \n",
       "\n",
       "              Fare    Cabin Embarked  \n",
       "count   891.000000      204      889  \n",
       "unique         NaN      147        3  \n",
       "top            NaN  B96 B98        S  \n",
       "freq           NaN        4      644  \n",
       "mean     32.204208      NaN      NaN  \n",
       "std      49.693429      NaN      NaN  \n",
       "min       0.000000      NaN      NaN  \n",
       "25%       7.910400      NaN      NaN  \n",
       "50%      14.454200      NaN      NaN  \n",
       "75%      31.000000      NaN      NaN  \n",
       "max     512.329200      NaN      NaN  "
      ]
     },
     "execution_count": 4,
     "metadata": {},
     "output_type": "execute_result"
    }
   ],
   "source": [
    "dft.describe(include = \"all\")"
   ]
  },
  {
   "cell_type": "code",
   "execution_count": 5,
   "id": "c8aabdb0-041d-4d63-9539-66b0f8d4a765",
   "metadata": {},
   "outputs": [
    {
     "data": {
      "text/plain": [
       "Survived      0\n",
       "Pclass        0\n",
       "Sex           0\n",
       "Age         177\n",
       "SibSp         0\n",
       "Parch         0\n",
       "Fare          0\n",
       "Cabin       687\n",
       "Embarked      2\n",
       "dtype: int64"
      ]
     },
     "execution_count": 5,
     "metadata": {},
     "output_type": "execute_result"
    }
   ],
   "source": [
    "dft.isnull().sum()"
   ]
  },
  {
   "cell_type": "code",
   "execution_count": 6,
   "id": "253e21bb-2ebf-4837-a228-c2ed023c89c0",
   "metadata": {},
   "outputs": [
    {
     "name": "stdout",
     "output_type": "stream",
     "text": [
      "<class 'pandas.core.frame.DataFrame'>\n",
      "RangeIndex: 891 entries, 0 to 890\n",
      "Data columns (total 9 columns):\n",
      " #   Column    Non-Null Count  Dtype  \n",
      "---  ------    --------------  -----  \n",
      " 0   Survived  891 non-null    int64  \n",
      " 1   Pclass    891 non-null    int64  \n",
      " 2   Sex       891 non-null    object \n",
      " 3   Age       714 non-null    float64\n",
      " 4   SibSp     891 non-null    int64  \n",
      " 5   Parch     891 non-null    int64  \n",
      " 6   Fare      891 non-null    float64\n",
      " 7   Cabin     204 non-null    object \n",
      " 8   Embarked  889 non-null    object \n",
      "dtypes: float64(2), int64(4), object(3)\n",
      "memory usage: 62.8+ KB\n"
     ]
    }
   ],
   "source": [
    "dft.info()"
   ]
  },
  {
   "cell_type": "code",
   "execution_count": 7,
   "id": "a9f12f7a-8c0c-4cf6-956c-3fd8f646d32c",
   "metadata": {
    "tags": []
   },
   "outputs": [],
   "source": [
    "dft.columns = ['Survived','Pclass', \n",
    "               'Sex', 'Age',\n",
    "               'SibSp','Parch',\n",
    "               'Fare', 'Cabin',\n",
    "              'Embarked']"
   ]
  },
  {
   "cell_type": "code",
   "execution_count": 8,
   "id": "93281e50-5555-48bb-9983-ab39f81a649e",
   "metadata": {},
   "outputs": [],
   "source": [
    "#\n",
    "# Missing values direpresentatikan dengan NaN sehingga terspesifikasi. \n",
    "# Jika dia adalah data kosong, maka missing value terspesifikasi \n",
    "# sebagai ''\n",
    "imputer = SimpleImputer(missing_values=np.NaN, strategy='median')\n",
    " \n",
    "dft.Age = imputer.fit_transform(dft['Age'].values.reshape(-1,1))[:,0]\n"
   ]
  },
  {
   "cell_type": "code",
   "execution_count": 9,
   "id": "15ad8fae-b532-4d22-ac9a-4b2db0efcfd8",
   "metadata": {},
   "outputs": [],
   "source": [
    "#\n",
    "# Missing values direpresentatikan dengan NaN sehingga terspesifikasi. \n",
    "# Jika dia adalah data kosong, maka missing value terspesifikasi \n",
    "# sebagai ''\n",
    "imputer = SimpleImputer(missing_values=np.NaN, strategy='most_frequent')\n",
    " \n",
    "dft.Cabin = imputer.fit_transform(dft['Cabin'].values.reshape(-1,1))[:,0]\n",
    "dft.Embarked = imputer.fit_transform(dft['Embarked'].values.reshape(-1,1))[:,0]\n"
   ]
  },
  {
   "cell_type": "code",
   "execution_count": 10,
   "id": "c97d77a5-bc21-4797-be4b-ccd0d0029143",
   "metadata": {},
   "outputs": [
    {
     "name": "stdout",
     "output_type": "stream",
     "text": [
      "<class 'pandas.core.frame.DataFrame'>\n",
      "RangeIndex: 891 entries, 0 to 890\n",
      "Data columns (total 9 columns):\n",
      " #   Column    Non-Null Count  Dtype  \n",
      "---  ------    --------------  -----  \n",
      " 0   Survived  891 non-null    int64  \n",
      " 1   Pclass    891 non-null    int64  \n",
      " 2   Sex       891 non-null    object \n",
      " 3   Age       891 non-null    float64\n",
      " 4   SibSp     891 non-null    int64  \n",
      " 5   Parch     891 non-null    int64  \n",
      " 6   Fare      891 non-null    float64\n",
      " 7   Cabin     891 non-null    object \n",
      " 8   Embarked  891 non-null    object \n",
      "dtypes: float64(2), int64(4), object(3)\n",
      "memory usage: 62.8+ KB\n"
     ]
    }
   ],
   "source": [
    "dft.info()"
   ]
  },
  {
   "cell_type": "markdown",
   "id": "ac2aee8e-a864-4123-a44c-efeb29a28e37",
   "metadata": {},
   "source": [
    "### Pemodelan dengan data dengan algoritma Decision Tree\n",
    "\n",
    "#### Seleksi Fitur (_Feature Selection_)\n",
    "Sebagaimana algoritma _supervised_ lainnya, kita perlu membagi atribut menjadi 2 bagian. Satu bagian terdiri dari 1 atribut, sebagai variabel _**target**_, dan sisanya adalah sebagai variabel _**independent**_. \n",
    "\n",
    "Dalam hal ini, atribute **Survived** adalah variabel target, dan sisanya adalah variabel independent. Kemudian, kita membagi data menjadi data training (learning) dan data testing. Kali ini kita memilih cara pembagian data yang sederhana yaitu data testing adalah 30% dari total dataset.\n",
    "\n",
    "Selanjutnya, untuk pemodelan dengan algoritma Decision Tree, jenis data harus numerik. Sedangkan kondisi dataset sekarang masih ada beberapa yang non-numerik,  yaitu Sex:male,female. Oleh karena itu atribute Sex harus ditransformasi menjadi nilai numerik. Dengan menggunakan tool **LabelEncoder** dari sklearn.preprocessing, kita dapat merubah secara otomatis atribute Sex menjadi male = 1, dan female = 0.\n",
    "\n",
    "Selain itu variabel Age, Cabin dan Embarked juga non numerik, karena mengandung nilai NAN (not a number), sebagai ganti _missing value_. Kita perlu dapat juga menggunakan tool **LabelEncoder** seperti halnya variable Sex di atas. \n"
   ]
  },
  {
   "cell_type": "code",
   "execution_count": 11,
   "id": "58d38b3c-0ea1-4de9-8aa5-99675ff68879",
   "metadata": {},
   "outputs": [],
   "source": [
    "le = LabelEncoder()\n",
    "dft['Sex'] =  le.fit_transform(dft['Sex'])\n",
    "dft['Age'] = le.fit_transform(dft['Age'])\n",
    "dft['Cabin'] =  le.fit_transform(dft['Cabin'])\n",
    "dft['Embarked'] = le.fit_transform(dft['Embarked'])"
   ]
  },
  {
   "cell_type": "code",
   "execution_count": 12,
   "id": "842daadb-0040-4c12-bc15-f15f093028b1",
   "metadata": {},
   "outputs": [
    {
     "name": "stdout",
     "output_type": "stream",
     "text": [
      "<class 'pandas.core.frame.DataFrame'>\n",
      "RangeIndex: 891 entries, 0 to 890\n",
      "Data columns (total 9 columns):\n",
      " #   Column    Non-Null Count  Dtype  \n",
      "---  ------    --------------  -----  \n",
      " 0   Survived  891 non-null    int64  \n",
      " 1   Pclass    891 non-null    int64  \n",
      " 2   Sex       891 non-null    int64  \n",
      " 3   Age       891 non-null    int64  \n",
      " 4   SibSp     891 non-null    int64  \n",
      " 5   Parch     891 non-null    int64  \n",
      " 6   Fare      891 non-null    float64\n",
      " 7   Cabin     891 non-null    int64  \n",
      " 8   Embarked  891 non-null    int64  \n",
      "dtypes: float64(1), int64(8)\n",
      "memory usage: 62.8 KB\n"
     ]
    }
   ],
   "source": [
    "dft.info()"
   ]
  },
  {
   "cell_type": "markdown",
   "id": "d4cfb1b4-3162-4c63-85d8-4b202319622a",
   "metadata": {},
   "source": [
    "Sekarang kita melihat bahwa data sudah dalam tipe numerik."
   ]
  },
  {
   "cell_type": "code",
   "execution_count": 13,
   "id": "84d9bb00-c473-4bcd-b886-8dc502b46ba2",
   "metadata": {},
   "outputs": [],
   "source": [
    "#split dataset in features and target variable\n",
    "feature_cols = ['Pclass','Sex','SibSp','Parch','Fare','Age','Cabin','Embarked']\n",
    "X = dft[feature_cols] # Features\n",
    "y = dft.Survived # Target variable"
   ]
  },
  {
   "cell_type": "code",
   "execution_count": 14,
   "id": "f749dc8f-6687-4ac7-b367-69786603d7c7",
   "metadata": {},
   "outputs": [],
   "source": [
    "# Split dataset into training set and test set\n",
    "# 70% training and 30% test\n",
    "X_train, X_test, y_train, y_test = train_test_split(X, y, test_size=0.3, random_state=1) "
   ]
  },
  {
   "cell_type": "markdown",
   "id": "fa4f15ec-41f3-4f26-a7bf-7579c046389f",
   "metadata": {},
   "source": [
    "#### Training: membangun model prediksi dengan Decision Tree"
   ]
  },
  {
   "cell_type": "code",
   "execution_count": 15,
   "id": "0a427a4e-de08-4ee2-87cb-53fbe5b99a3b",
   "metadata": {},
   "outputs": [],
   "source": [
    "# Create Decision Tree classifer object\n",
    "clf = DecisionTreeClassifier()\n",
    "\n",
    "# Train Decision Tree Classifer\n",
    "clf = clf.fit(X_train,y_train)\n",
    "\n",
    "#Predict the response for test dataset\n",
    "y_pred = clf.predict(X_test)"
   ]
  },
  {
   "cell_type": "markdown",
   "id": "0706b6ae-8400-4c50-801f-74bb78e8e8b8",
   "metadata": {},
   "source": [
    "#### Evaluasi akurasi dari model yang dihasilkan: \n"
   ]
  },
  {
   "cell_type": "code",
   "execution_count": 16,
   "id": "806affd2-34e4-4cfd-9cb8-8650664b8a2a",
   "metadata": {},
   "outputs": [
    {
     "name": "stdout",
     "output_type": "stream",
     "text": [
      "Accuracy: 0.7649253731343284\n"
     ]
    }
   ],
   "source": [
    "# Model Accuracy, how often is the classifier correct?\n",
    "print(\"Accuracy:\",metrics.accuracy_score(y_test, y_pred))"
   ]
  },
  {
   "cell_type": "code",
   "execution_count": null,
   "id": "128bdbe2-e9be-4476-92dc-c7a34d36b54c",
   "metadata": {},
   "outputs": [],
   "source": []
  }
 ],
 "metadata": {
  "kernelspec": {
   "display_name": "Python 3 (ipykernel)",
   "language": "python",
   "name": "python3"
  },
  "language_info": {
   "codemirror_mode": {
    "name": "ipython",
    "version": 3
   },
   "file_extension": ".py",
   "mimetype": "text/x-python",
   "name": "python",
   "nbconvert_exporter": "python",
   "pygments_lexer": "ipython3",
   "version": "3.10.6"
  }
 },
 "nbformat": 4,
 "nbformat_minor": 5
}
